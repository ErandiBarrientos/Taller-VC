{
  "nbformat": 4,
  "nbformat_minor": 0,
  "metadata": {
    "colab": {
      "provenance": [],
      "collapsed_sections": [],
      "include_colab_link": true
    },
    "kernelspec": {
      "name": "python3",
      "display_name": "Python 3"
    },
    "language_info": {
      "name": "python"
    }
  },
  "cells": [
    {
      "cell_type": "markdown",
      "metadata": {
        "id": "view-in-github",
        "colab_type": "text"
      },
      "source": [
        "<a href=\"https://colab.research.google.com/github/ErandiBarrientos/Taller-VC/blob/main/Ejercicio_VC_(3).ipynb\" target=\"_parent\"><img src=\"https://colab.research.google.com/assets/colab-badge.svg\" alt=\"Open In Colab\"/></a>"
      ]
    },
    {
      "cell_type": "markdown",
      "source": [
        "# TALLER \"VISION POR COMPUTADORA\""
      ],
      "metadata": {
        "id": "YAEEJGPq7HMx"
      }
    },
    {
      "cell_type": "markdown",
      "source": [
        "Cargar las imagenes que se utilizaran"
      ],
      "metadata": {
        "id": "f4uJM2woL7Y1"
      }
    },
    {
      "cell_type": "code",
      "source": [
        "from google.colab import files\n",
        "uploaded = files.upload()\n",
        "for fn in uploaded.keys():\n",
        "  print('Archivo \"{name}\" tamaño {length} bytes'.format(\n",
        "      name=fn, length=len(uploaded[fn])))"
      ],
      "metadata": {
        "id": "qT9MEVGP28S0"
      },
      "execution_count": null,
      "outputs": []
    },
    {
      "cell_type": "markdown",
      "source": [
        "PRACTICA # 1 \"Cargar una Imagen y Desplegarla\""
      ],
      "metadata": {
        "id": "g0g7oGjN4UJL"
      }
    },
    {
      "cell_type": "code",
      "source": [
        "import cv2\n",
        "import numpy as np\n",
        "from matplotlib import pyplot as plt\n",
        "\n",
        "img = cv2.imread('Fig0221.tif', 0)\n",
        "print('Dimensiones : ',img.shape)\n",
        "plt.imshow(img, cmap='gray')\n",
        "plt.title('Imagen')\n",
        "plt.show()"
      ],
      "metadata": {
        "id": "E4AlEMl94W-D"
      },
      "execution_count": null,
      "outputs": []
    },
    {
      "cell_type": "markdown",
      "source": [
        "PRACTICA # 2 \"Suma y Resta de Imagenes\""
      ],
      "metadata": {
        "id": "JNL45YQa7frl"
      }
    },
    {
      "cell_type": "code",
      "source": [
        "import cv2\n",
        "import numpy as np\n",
        "from matplotlib import pyplot as plt\n",
        "\n",
        "img1 = cv2.imread('Fig0219.tif',0)\n",
        "img2 = cv2.imread('Fig0219.tif',0)\n",
        "#w1, h1 = img1.shape\n",
        "#w2, h2 = img2.shape\n",
        "#print ('w1', w1)\n",
        "SumA = cv2.add(img1,img2)\n",
        "RestA = cv2.absdiff(img1, img2)\n",
        "plt.imshow(img1, cmap='gray')\n",
        "plt.title('Original')\n",
        "plt.show()\n",
        "plt.imshow(SumA, cmap='gray')\n",
        "plt.title('Suma')\n",
        "plt.show()\n",
        "plt.imshow(RestA, cmap='gray')\n",
        "plt.title('Resta')\n",
        "plt.show()"
      ],
      "metadata": {
        "id": "Et7Kpwzjhvm7"
      },
      "execution_count": null,
      "outputs": []
    },
    {
      "cell_type": "markdown",
      "source": [
        "PRACTICA # 3 \"Cambiar Escala de Grises\""
      ],
      "metadata": {
        "id": "YvsSI-wyLYYi"
      }
    },
    {
      "cell_type": "code",
      "source": [
        "def gray2ind(img, k):\n",
        "  dim = img.shape\n",
        "  im1 = np.zeros((dim), dtype=np.uint8) \n",
        "  nivel=int(256/k) \n",
        "  for i in range(img.shape[0]):\n",
        "     for j in range(img.shape[1]):\n",
        "            im1[i][j]=int(img[i][j]/nivel)*nivel\n",
        "  return im1\n",
        "import cv2\n",
        "import numpy as np\n",
        "from matplotlib import pyplot as plt\n",
        "\n",
        "img = cv2.imread('Fig0221.tif', 0)\n",
        "\n",
        "img16 = gray2ind(img, 16)\n",
        "img8 = gray2ind(img, 8)\n",
        "img4 = gray2ind(img, 4)\n",
        "img2 = gray2ind(img, 2)\n",
        "\n",
        "\n",
        "plt.subplot(2,2,1),plt.imshow(img16, cmap='gray'), plt.title('16 niveles de gris')\n",
        "plt.xticks([]), plt.yticks([])\n",
        "plt.subplot(2,2,2),plt.imshow(img8, cmap='gray'), plt.title('8 niveles de gris')\n",
        "plt.xticks([]), plt.yticks([])\n",
        "plt.subplot(2,2,3),plt.imshow(img4, cmap='gray'), plt.title('4 niveles de gris')\n",
        "plt.xticks([]), plt.yticks([])\n",
        "plt.subplot(2,2,4),plt.imshow(img2, cmap='gray'), plt.title('2 niveles de gris')\n",
        "plt.xticks([]), plt.yticks([])\n",
        "plt.show()"
      ],
      "metadata": {
        "id": "gTFaCxGPMQ__"
      },
      "execution_count": null,
      "outputs": []
    },
    {
      "cell_type": "markdown",
      "source": [
        "PRACTICA # 4 \"Cambiar Tamaño de Imágenes\""
      ],
      "metadata": {
        "id": "1NhGx4g77miQ"
      }
    },
    {
      "cell_type": "code",
      "source": [
        "import cv2\n",
        "import numpy as np\n",
        "from matplotlib import pyplot as plt\n",
        "\n",
        "img = cv2.imread('Fig0219.tif', 0)\n",
        "\n",
        "scale_percent = 20\n",
        "width = int(img.shape[0]* scale_percent / 100)\n",
        "height = int(img.shape[1]* scale_percent / 100)\n",
        "dim = (width, height)\n",
        "\n",
        "img_SCALED = cv2.resize(img, dim, interpolation=cv2.INTER_LINEAR)\n",
        "\n",
        "plt.imshow(img, cmap='gray')\n",
        "plt.title('Imagen Original')\n",
        "plt.show()\n",
        "\n",
        "plt.imshow(img_SCALED, cmap='gray')\n",
        "plt.title('Imagen Escalada')\n",
        "plt.show()\n"
      ],
      "metadata": {
        "id": "A5lAnSrRGf9l"
      },
      "execution_count": null,
      "outputs": []
    },
    {
      "cell_type": "code",
      "source": [
        "import cv2\n",
        "import numpy as np\n",
        "from matplotlib import pyplot as plt\n",
        "\n",
        "img = cv2.imread('Fig0219.tif', 0)\n",
        "\n",
        "dim128 = (128, 128)\n",
        "dim64 = (64, 64)\n",
        "dim32 = (32, 32)\n",
        "\n",
        "\n",
        "scaled_LINEAR_128 = cv2.resize(img, dim128, interpolation=cv2.INTER_LINEAR)\n",
        "scaled_LINEAR_64 = cv2.resize(img, dim64, interpolation=cv2.INTER_LINEAR)\n",
        "scaled_LINEAR_32 = cv2.resize(img, dim32, interpolation=cv2.INTER_LINEAR)\n",
        "\n",
        "scaled_NEAREST_128 = cv2.resize(img, dim128, interpolation=cv2.INTER_NEAREST)\n",
        "scaled_NEAREST_64 = cv2.resize(img, dim64, interpolation=cv2.INTER_NEAREST)\n",
        "scaled_NEAREST_32 = cv2.resize(img, dim32, interpolation=cv2.INTER_NEAREST)\n",
        "\n",
        "plt.subplot(2,3,1),plt.imshow(scaled_LINEAR_128, cmap='gray'), plt.title('a')\n",
        "plt.xticks([]), plt.yticks([])\n",
        "plt.subplot(2,3,2),plt.imshow(scaled_LINEAR_64, cmap='gray'), plt.title('b')\n",
        "plt.xticks([]), plt.yticks([])\n",
        "plt.subplot(2,3,3),plt.imshow(scaled_LINEAR_32, cmap='gray'), plt.title('c')\n",
        "plt.xticks([]), plt.yticks([])\n",
        "plt.subplot(2,3,4),plt.imshow(scaled_NEAREST_128, cmap='gray'), plt.title('d')\n",
        "plt.xticks([]), plt.yticks([])\n",
        "plt.subplot(2,3,5),plt.imshow(scaled_NEAREST_64, cmap='gray'), plt.title('e')\n",
        "plt.xticks([]), plt.yticks([])\n",
        "plt.subplot(2,3,6),plt.imshow(scaled_NEAREST_32, cmap='gray'), plt.title('f')\n",
        "plt.xticks([]), plt.yticks([])\n",
        "plt.show()"
      ],
      "metadata": {
        "id": "o89NXDo59eKK"
      },
      "execution_count": null,
      "outputs": []
    },
    {
      "cell_type": "markdown",
      "source": [
        "PRACTICA # 5 \"Transformaciones Logarítmicas\""
      ],
      "metadata": {
        "id": "gixujzSc-Fjr"
      }
    },
    {
      "cell_type": "code",
      "source": [
        "def imadjust(x,a,b,c,d,gamma=0):  \n",
        "   if gamma == 0:\n",
        "    y = 255 - x\n",
        "   else:\n",
        "    y = (((x - a) / (b - a)) ** gamma) * (d - c) + c    \n",
        "   return y\n",
        "\n",
        "import cv2\n",
        "import numpy as np\n",
        "from matplotlib import pyplot as plt\n",
        "from matplotlib.pyplot import figure\n",
        "\n",
        "img = cv2.imread('Fig0304.tif', 0)\n",
        "imgLogNegativo=imadjust(img,0,1,0,0)\n",
        "\n",
        "plt.subplot(1,2,1),plt.imshow(img, cmap='gray'), plt.title('Imagen original')\n",
        "plt.xticks([]), plt.yticks([])\n",
        "plt.subplot(1,2,2),plt.imshow(imgLogNegativo, cmap='gray'), plt.title('Negativo')\n",
        "plt.xticks([]), plt.yticks([])\n",
        "plt.show()"
      ],
      "metadata": {
        "id": "f5OBpq7kNZ56"
      },
      "execution_count": null,
      "outputs": []
    },
    {
      "cell_type": "code",
      "source": [
        "img2 = cv2.imread('Fig0308.tif', 0)\n",
        "imgLog3=imadjust(img2,0,1,0,1, 0.6)\n",
        "imgLog4=imadjust(img2,0,1,0,1, 0.4)\n",
        "imgLog5=imadjust(img2,0,1,0,1, 0.3)\n",
        "\n",
        "figure(figsize=(8, 6), dpi=100)\n",
        "plt.subplot(2,2,1),plt.imshow(img2, cmap='gray'), plt.title('Imagen original')\n",
        "plt.xticks([]), plt.yticks([])\n",
        "plt.subplot(2,2,2),plt.imshow(imgLog3, cmap='gray'), plt.title('gamma = 0.6')\n",
        "plt.xticks([]), plt.yticks([])\n",
        "plt.subplot(2,2,3),plt.imshow(imgLog4, cmap='gray'), plt.title('gamma = 0.4')\n",
        "plt.xticks([]), plt.yticks([])\n",
        "plt.subplot(2,2,4),plt.imshow(imgLog5, cmap='gray'), plt.title('gamma = 0.3')\n",
        "plt.xticks([]), plt.yticks([])\n",
        "plt.show()"
      ],
      "metadata": {
        "id": "pT_ydGGgcrI6"
      },
      "execution_count": null,
      "outputs": []
    },
    {
      "cell_type": "markdown",
      "source": [
        "PRACTICA # 6 \"Ecualización de Histograma\""
      ],
      "metadata": {
        "id": "106k1i9dCJ42"
      }
    },
    {
      "cell_type": "code",
      "source": [
        "import cv2\n",
        "import numpy as np\n",
        "from matplotlib import pyplot as plt\n",
        "from matplotlib.pyplot import figure\n",
        "\n",
        "\n",
        "img_1 = cv2.imread('Fig0320_1.tif', cv2.IMREAD_GRAYSCALE)\n",
        "img_1_hist = cv2.calcHist([img_1], [0], None, [256], [0, 256])\n",
        "img_1_Eq = cv2.equalizeHist(img_1)\n",
        "img_1_Eq_hist =  cv2.calcHist([img_1_Eq],[0],None,[256],[0,256])\n",
        "\n",
        "img_2 = cv2.imread('Fig0320_2.tif', 0)\n",
        "img_2_hist = cv2.calcHist([img_2], [0], None, [256], [0, 256])\n",
        "img_2_Eq = cv2.equalizeHist(img_2)\n",
        "img_2_Eq_hist =  cv2.calcHist([img_2_Eq],[0],None,[256],[0,256])\n",
        "\n",
        "img_3 = cv2.imread('Fig0320_3.tif', 0)\n",
        "img_3_hist = cv2.calcHist([img_3], [0], None, [256], [0, 256])\n",
        "img_3_Eq = cv2.equalizeHist(img_3)\n",
        "img_3_Eq_hist =  cv2.calcHist([img_3_Eq],[0],None,[256],[0,256])\n",
        "\n",
        "img_4 = cv2.imread('Fig0320_4.tif', 0)\n",
        "img_4_hist = cv2.calcHist([img_4], [0], None, [256], [0, 256])\n",
        "img_4_Eq = cv2.equalizeHist(img_4)\n",
        "img_4_Eq_hist =  cv2.calcHist([img_4_Eq],[0],None,[256],[0,256])\n",
        "\n",
        "figure(figsize=(8, 6), dpi=150)\n",
        "\n",
        "plt.subplot(4,4,1),plt.imshow(img_1, cmap='gray'), plt.title('Imagen')\n",
        "plt.xticks([]), plt.yticks([])\n",
        "plt.subplot(4,4,2),plt.plot(img_1_hist), plt.title('Histograma')\n",
        "plt.xticks([]), plt.yticks([])\n",
        "plt.subplot(4,4,3),plt.imshow(img_1_Eq, cmap='gray'), plt.title('Imagen ecualizada')\n",
        "plt.xticks([]), plt.yticks([])\n",
        "plt.subplot(4,4,4),plt.plot(img_1_Eq_hist), plt.title('Histograma')\n",
        "plt.xticks([]), plt.yticks([])\n",
        "\n",
        "plt.subplot(4,4,5),plt.imshow(img_2, cmap='gray'), plt.title('Imagen')\n",
        "plt.xticks([]), plt.yticks([])\n",
        "plt.subplot(4,4,6),plt.plot(img_2_hist), plt.title('Histograma')\n",
        "plt.xticks([]), plt.yticks([])\n",
        "plt.subplot(4,4,7),plt.imshow(img_2_Eq, cmap='gray'), plt.title('Imagen ecualizada')\n",
        "plt.xticks([]), plt.yticks([])\n",
        "plt.subplot(4,4,8),plt.plot(img_2_Eq_hist), plt.title('Histograma')\n",
        "plt.xticks([]), plt.yticks([])\n",
        "\n",
        "plt.subplot(4,4,9),plt.imshow(img_3, cmap='gray'), plt.title('Imagen')\n",
        "plt.xticks([]), plt.yticks([])\n",
        "plt.subplot(4,4,10),plt.plot(img_3_hist), plt.title('Histograma')\n",
        "plt.xticks([]), plt.yticks([])\n",
        "plt.subplot(4,4,11),plt.imshow(img_3_Eq, cmap='gray'), plt.title('Imagen ecualizada')\n",
        "plt.xticks([]), plt.yticks([])\n",
        "plt.subplot(4,4,12),plt.plot(img_3_Eq_hist), plt.title('Histograma')\n",
        "plt.xticks([]), plt.yticks([])\n",
        "\n",
        "plt.subplot(4,4,13),plt.imshow(img_4, cmap='gray'), plt.title('Imagen')\n",
        "plt.xticks([]), plt.yticks([])\n",
        "plt.subplot(4,4,14),plt.plot(img_4_hist), plt.title('Histograma')\n",
        "plt.xticks([]), plt.yticks([])\n",
        "plt.subplot(4,4,15),plt.imshow(img_4_Eq, cmap='gray'), plt.title('Imagen ecualizada')\n",
        "plt.xticks([]), plt.yticks([])\n",
        "plt.subplot(4,4,16),plt.plot(img_4_Eq_hist), plt.title('Histograma')\n",
        "plt.xticks([]), plt.yticks([])\n",
        "\n",
        "plt.show()"
      ],
      "metadata": {
        "id": "Qwu3Dll5CXgS"
      },
      "execution_count": null,
      "outputs": []
    },
    {
      "cell_type": "markdown",
      "source": [
        "PRACTICA # 7 \"Filtro Convolucional Pasa Altas\""
      ],
      "metadata": {
        "id": "0Fn9eX4lehAc"
      }
    },
    {
      "cell_type": "markdown",
      "source": [
        "FILTROS"
      ],
      "metadata": {
        "id": "ZogI988ljHDv"
      }
    },
    {
      "cell_type": "code",
      "source": [
        "import numpy as np\n",
        "import cv2 as cv\n",
        "from matplotlib import pyplot as plt\n",
        "from matplotlib.pyplot import figure\n",
        "\n",
        "img = cv.imread('Fig0333.tif', cv.IMREAD_GRAYSCALE)\n",
        "\n",
        "kernel = np.array((\n",
        "\t[4, 0, 0],\n",
        "\t[0, 0, 0],\n",
        "\t[0, 0, -4]), dtype=\"int\")\n",
        "\n",
        "outputFiltro = cv.filter2D(img, -1, kernel)\n",
        "\n",
        "figure(figsize=(8, 6), dpi=100)\n",
        "plt.subplot(1,2,1),plt.imshow(img, cmap='gray'), plt.title('Imagen original')\n",
        "plt.xticks([]), plt.yticks([])\n",
        "plt.subplot(1,2,2),plt.imshow(outputFiltro, cmap='gray'), plt.title('Imagen c/Filtro')\n",
        "plt.xticks([]), plt.yticks([])\n",
        "plt.show()"
      ],
      "metadata": {
        "id": "mAbdIUQvjIvB"
      },
      "execution_count": null,
      "outputs": []
    },
    {
      "cell_type": "code",
      "source": [
        "import numpy as np\n",
        "import cv2 as cv\n",
        "from matplotlib import pyplot as plt\n",
        "from matplotlib.pyplot import figure\n",
        "\n",
        "img = cv.imread('Fig0338.tif', cv.IMREAD_GRAYSCALE)\n",
        "\n",
        "kernel_3x3 = np.ones((3,3), np.float32) / 9.0\n",
        "#display(kernel_3x3)\n",
        "from skimage.util import random_noise\n",
        "\n",
        "img_ruido = random_noise(img,  mode='gaussian', seed=None, clip=True, mean= 0, var = 0.05)\n",
        "img_ruido = cv.normalize(img_ruido, None, 0, 255, cv.NORM_MINMAX, cv.CV_8U)\n",
        "\n",
        "output3x3 = cv.filter2D(img_ruido, -1, kernel_3x3)\n",
        "blurred = cv.GaussianBlur(img_ruido, (3, 3), cv.BORDER_DEFAULT)\n",
        "\n",
        "figure(figsize=(8, 6), dpi=100)\n",
        "plt.subplot(2,2,1),plt.imshow(img, cmap='gray'), plt.title('Imagen original')\n",
        "plt.xticks([]), plt.yticks([])\n",
        "plt.subplot(2,2,2),plt.imshow(img_ruido, cmap='gray'), plt.title('Imagen con ruido gaussiano')\n",
        "plt.xticks([]), plt.yticks([])\n",
        "plt.subplot(2,2,3),plt.imshow(output3x3, cmap='gray'), plt.title('Imagen salida filtro 3x3')\n",
        "plt.xticks([]), plt.yticks([])\n",
        "plt.subplot(2,2,4),plt.imshow(blurred, cmap='gray'), plt.title('Imagen salida filtro Gaussiano 3x3')\n",
        "plt.xticks([]), plt.yticks([])\n",
        "plt.show()"
      ],
      "metadata": {
        "id": "IVBKilsCERMq"
      },
      "execution_count": null,
      "outputs": []
    },
    {
      "cell_type": "markdown",
      "source": [
        "PRACTICA # 8 \"Filtro Convolucional Pasa Altas\""
      ],
      "metadata": {
        "id": "QTccNkjdGPi1"
      }
    },
    {
      "cell_type": "code",
      "source": [
        "import numpy as np\n",
        "import cv2 as cv\n",
        "from matplotlib import pyplot as plt\n",
        "from matplotlib.pyplot import figure\n",
        "\n",
        "img = cv.imread('Fig0333.tif', cv.IMREAD_GRAYSCALE)\n",
        "\n",
        "Gaussian = cv.GaussianBlur(img, (19, 19), 3)\n",
        "LoG = cv.Laplacian(Gaussian, cv.CV_8U, ksize=3)\n",
        "\n",
        "plt.subplot(1,2,1),plt.imshow(img, cmap='gray'), plt.title('Imagen original')\n",
        "plt.subplot(1,2,2),plt.imshow(LoG, cmap='gray'), plt.title('Filtro Laplaciano')\n",
        "plt.show()"
      ],
      "metadata": {
        "id": "0X6eVX11GS1s"
      },
      "execution_count": null,
      "outputs": []
    },
    {
      "cell_type": "markdown",
      "source": [
        "PRACTICA # 9 \"Filtro Sobel\""
      ],
      "metadata": {
        "id": "SFMGtGHkKNk1"
      }
    },
    {
      "cell_type": "code",
      "source": [
        "import numpy as np\n",
        "import cv2 as cv\n",
        "from matplotlib import pyplot as plt\n",
        "from matplotlib.pyplot import figure\n",
        "\n",
        "img = cv.imread('coins.tif', cv.IMREAD_GRAYSCALE)\n",
        "\n",
        "img_sobel_x = cv.Sobel(img, cv.CV_64F, 1, 0, ksize=3)\n",
        "img_sobel_y = cv.Sobel(img, cv.CV_64F, 0, 1, ksize=3)\n",
        "# La magnitud del gradiente es la raíz cuadrada de los gradientes al cuadrado en las direcciones x e y sumados.\n",
        "magnitude = np.sqrt((img_sobel_x ** 2) + (img_sobel_y ** 2))\n",
        "# La orientación del gradiente es la arcotangente de los gradientes en las direcciones x e y.\n",
        "orientation = np.arctan2(img_sobel_y, img_sobel_x) * (180 / np.pi)\n",
        "\n",
        "figure(figsize=(8, 6), dpi=100)\n",
        "plt.subplot(2,2,1),plt.imshow(magnitude, cmap = 'gray')\n",
        "plt.title('Magnitud del gradiente'), plt.xticks([]), plt.yticks([])\n",
        "plt.subplot(2,2,2),plt.imshow(orientation, cmap = 'gray')\n",
        "plt.title('Dirección del gradiente'), plt.xticks([]), plt.yticks([])\n",
        "plt.subplot(2,2,3),plt.imshow(img_sobel_x, cmap = 'gray')\n",
        "plt.title('Sobel X'), plt.xticks([]), plt.yticks([])\n",
        "plt.subplot(2,2,4),plt.imshow(img_sobel_y, cmap = 'gray')\n",
        "plt.title('Sobel Y'), plt.xticks([]), plt.yticks([])\n",
        "plt.show()"
      ],
      "metadata": {
        "id": "UNaxqJ2_KYlz"
      },
      "execution_count": null,
      "outputs": []
    },
    {
      "cell_type": "markdown",
      "source": [
        "PRACTICA # 10: \"FILTROS SOBEL, PREWITT Y CANNY\" "
      ],
      "metadata": {
        "id": "Qvb72tRQf52b"
      }
    },
    {
      "cell_type": "code",
      "source": [
        "import numpy as np\n",
        "import cv2 as cv\n",
        "from matplotlib import pyplot as plt\n",
        "from matplotlib.pyplot import figure\n",
        "\n",
        "img = cv.imread('circuit.tif', 0)\t\n",
        "#img = cv.cvtColor(img, cv.COLOR_BGR2GRAY)\n",
        "\n",
        "\n",
        "kernelx = np.array([[1,1,1],[0,0,0],[-1,-1,-1]])\n",
        "kernely = np.array([[-1,0,1],[-1,0,1],[-1,0,1]])\n",
        "img_prewittx = cv.filter2D(img, -1, kernelx)\n",
        "img_prewitty = cv.filter2D(img, -1, kernely)\n",
        "prewitt = img_prewittx + img_prewitty\n",
        "\n",
        "img_sobel_x = cv.Sobel(img, cv.CV_8U, 1, 0, ksize=3)\n",
        "img_sobel_y = cv.Sobel(img, cv.CV_8U, 0, 1, ksize=3)\n",
        "sobel = img_sobel_x + img_sobel_y\n",
        "\n",
        "canny = cv.Canny(img, threshold1 = 50, threshold2 =255)\n",
        "\n",
        "figure(figsize=(8, 6), dpi=200)\n",
        "plt.subplot(2,2,1),plt.imshow(img), \n",
        "plt.title('Original'),\n",
        "plt.subplot(2,2,2),plt.imshow(prewitt, cmap = 'gray' )\n",
        "plt.title('Prewitt')\n",
        "plt.subplot(2,2,3),plt.imshow(sobel, cmap = 'gray')\n",
        "plt.title('Sobel')\n",
        "plt.subplot(2,2,4),plt.imshow(canny, cmap = 'gray')\n",
        "plt.title('canny')\n",
        "plt.show()"
      ],
      "metadata": {
        "id": "UE23NBgbgPnX"
      },
      "execution_count": null,
      "outputs": []
    }
  ]
}