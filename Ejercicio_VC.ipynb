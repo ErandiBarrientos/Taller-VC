{
  "nbformat": 4,
  "nbformat_minor": 0,
  "metadata": {
    "colab": {
      "name": "Ejercicio_VC.ipynb",
      "provenance": [],
      "collapsed_sections": [],
      "authorship_tag": "ABX9TyMXYl9LvLp3RUcME4i6tAe7",
      "include_colab_link": true
    },
    "kernelspec": {
      "name": "python3",
      "display_name": "Python 3"
    },
    "language_info": {
      "name": "python"
    }
  },
  "cells": [
    {
      "cell_type": "markdown",
      "metadata": {
        "id": "view-in-github",
        "colab_type": "text"
      },
      "source": [
        "<a href=\"https://colab.research.google.com/github/ErandiBarrientos/Taller-VC/blob/main/Ejercicio_VC.ipynb\" target=\"_parent\"><img src=\"https://colab.research.google.com/assets/colab-badge.svg\" alt=\"Open In Colab\"/></a>"
      ]
    },
    {
      "cell_type": "markdown",
      "source": [
        "LABORATORIO"
      ],
      "metadata": {
        "id": "JJI0hB6Q7C-V"
      }
    },
    {
      "cell_type": "markdown",
      "source": [
        "TALLER DE VISION POR COMPUTADORA"
      ],
      "metadata": {
        "id": "YAEEJGPq7HMx"
      }
    },
    {
      "cell_type": "markdown",
      "source": [
        "8VA. ESCUELA DE INVIERNO DE ROBOTICA 2022"
      ],
      "metadata": {
        "id": "yb8f3WuH7Kmw"
      }
    },
    {
      "cell_type": "markdown",
      "source": [
        "Cargar las imagenes que se utilizaran"
      ],
      "metadata": {
        "id": "f4uJM2woL7Y1"
      }
    },
    {
      "cell_type": "code",
      "source": [
        "from google.colab import files\n",
        "uploaded = files.upload()\n",
        "for fn in uploaded.keys():\n",
        "  print('Archivo \"{name}\" tamaño {length} bytes'.format(\n",
        "      name=fn, length=len(uploaded[fn])))"
      ],
      "metadata": {
        "colab": {
          "resources": {
            "http://localhost:8080/nbextensions/google.colab/files.js": {
              "data": "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",
              "ok": true,
              "headers": [
                [
                  "content-type",
                  "application/javascript"
                ]
              ],
              "status": 200,
              "status_text": ""
            }
          },
          "base_uri": "https://localhost:8080/",
          "height": 89
        },
        "id": "qT9MEVGP28S0",
        "outputId": "a2092eef-d4a4-4bdb-8916-4807b6e89733"
      },
      "execution_count": null,
      "outputs": [
        {
          "output_type": "display_data",
          "data": {
            "text/html": [
              "\n",
              "     <input type=\"file\" id=\"files-515bc28a-e829-4daf-a82c-6a261575bb0a\" name=\"files[]\" multiple disabled\n",
              "        style=\"border:none\" />\n",
              "     <output id=\"result-515bc28a-e829-4daf-a82c-6a261575bb0a\">\n",
              "      Upload widget is only available when the cell has been executed in the\n",
              "      current browser session. Please rerun this cell to enable.\n",
              "      </output>\n",
              "      <script src=\"/nbextensions/google.colab/files.js\"></script> "
            ],
            "text/plain": [
              "<IPython.core.display.HTML object>"
            ]
          },
          "metadata": {}
        },
        {
          "output_type": "stream",
          "name": "stdout",
          "text": [
            "Saving Fig0342.tif to Fig0342.tif\n",
            "Archivo \"Fig0342.tif\" tamaño 872584 bytes\n"
          ]
        }
      ]
    },
    {
      "cell_type": "markdown",
      "source": [
        "PRACTICA # 1 \"Cargar una Imagen y Desplegarla\""
      ],
      "metadata": {
        "id": "g0g7oGjN4UJL"
      }
    },
    {
      "cell_type": "code",
      "source": [
        "import cv2\n",
        "import numpy as np\n",
        "from matplotlib import pyplot as plt\n",
        "\n",
        "img = cv2.imread('Fig0221.tif', 0)\n",
        "print('Dimensiones : ',img.shape)\n",
        "plt.imshow(img, cmap='gray')\n",
        "plt.title('Imagen')\n",
        "plt.show()"
      ],
      "metadata": {
        "id": "E4AlEMl94W-D"
      },
      "execution_count": null,
      "outputs": []
    },
    {
      "cell_type": "markdown",
      "source": [
        "PRACTICA # 2 \"Suma y Resta de Imagenes\""
      ],
      "metadata": {
        "id": "JNL45YQa7frl"
      }
    },
    {
      "cell_type": "code",
      "source": [
        "import cv2\n",
        "import numpy as np\n",
        "from matplotlib import pyplot as plt\n",
        "\n",
        "img1 = cv2.imread('Fig3.24.jpg',0)\n",
        "img2 = cv2.imread('Fig3.24.jpg',0)\n",
        "\n",
        "SumA = cv2.add(img1,img2)\n",
        "RestA = cv2.absdiff(img1, img2)\n",
        "\n",
        "plt.imshow(img1, cmap='gray')\n",
        "plt.title('Original')\n",
        "plt.show()\n",
        "plt.imshow(SumA, cmap='gray')\n",
        "plt.title('Suma')\n",
        "plt.show()\n",
        "plt.imshow(RestA, cmap='gray')\n",
        "plt.title('Resta')\n",
        "plt.show()"
      ],
      "metadata": {
        "id": "Et7Kpwzjhvm7"
      },
      "execution_count": null,
      "outputs": []
    },
    {
      "cell_type": "markdown",
      "source": [
        "PRACTICA # 3 \"Cambiar Escala de Grises\""
      ],
      "metadata": {
        "id": "YvsSI-wyLYYi"
      }
    },
    {
      "cell_type": "code",
      "source": [
        "def gray2ind(img, k):\n",
        "  dim = img.shape\n",
        "  im1 = np.zeros((dim), dtype=np.uint8) \n",
        "  nivel=int(256/k) \n",
        "  for i in range(img.shape[0]):\n",
        "     for j in range(img.shape[1]):\n",
        "            im1[i][j]=int(img[i][j]/nivel)*nivel\n",
        "  return im1\n",
        "\n",
        "import cv2\n",
        "import numpy as np\n",
        "from matplotlib import pyplot as plt\n",
        "\n",
        "img = cv2.imread('Fig0221.tif', 0)\n",
        "\n",
        "img16 = gray2ind(img, 16)\n",
        "img8 = gray2ind(img, 8)\n",
        "img4 = gray2ind(img, 4)\n",
        "img2 = gray2ind(img, 2)\n",
        "\n",
        "plt.subplot(2,2,1),plt.imshow(img16, cmap='gray'), plt.title('16 niveles de gris')\n",
        "plt.xticks([]), plt.yticks([])\n",
        "plt.subplot(2,2,2),plt.imshow(img8, cmap='gray'), plt.title('8 niveles de gris')\n",
        "plt.xticks([]), plt.yticks([])\n",
        "plt.subplot(2,2,3),plt.imshow(img4, cmap='gray'), plt.title('4 niveles de gris')\n",
        "plt.xticks([]), plt.yticks([])\n",
        "plt.subplot(2,2,4),plt.imshow(img2, cmap='gray'), plt.title('2 niveles de gris')\n",
        "plt.xticks([]), plt.yticks([])\n",
        "plt.show()"
      ],
      "metadata": {
        "id": "gTFaCxGPMQ__"
      },
      "execution_count": null,
      "outputs": []
    },
    {
      "cell_type": "markdown",
      "source": [
        "PRACTICA # 4 \"Cambiar Tamaño de Imágenes\""
      ],
      "metadata": {
        "id": "1NhGx4g77miQ"
      }
    },
    {
      "cell_type": "code",
      "source": [
        "import cv2\n",
        "import numpy as np\n",
        "from matplotlib import pyplot as plt\n",
        "\n",
        "img = cv2.imread('Fig0219.tif', 0)\n",
        "\n",
        "scale_percent = 20\n",
        "width = int(img.shape[0]* scale_percent / 100)\n",
        "height = int(img.shape[1]* scale_percent / 100)\n",
        "dim = (width, height)\n",
        "\n",
        "img_SCALED = cv2.resize(img, dim, interpolation=cv2.INTER_LINEAR)\n",
        "\n",
        "plt.imshow(img, cmap='gray')\n",
        "plt.title('Imagen Original')\n",
        "plt.show()\n",
        "\n",
        "plt.imshow(img_SCALED, cmap='gray')\n",
        "plt.title('Imagen Escalada')\n",
        "plt.show()\n"
      ],
      "metadata": {
        "id": "A5lAnSrRGf9l"
      },
      "execution_count": null,
      "outputs": []
    },
    {
      "cell_type": "code",
      "source": [
        "import cv2\n",
        "import numpy as np\n",
        "from matplotlib import pyplot as plt\n",
        "\n",
        "img = cv2.imread('Fig0219.tif', 0)\n",
        "\n",
        "dim128 = (128, 128)\n",
        "dim64 = (64, 64)\n",
        "dim32 = (32, 32)\n",
        "\n",
        "\n",
        "scaled_LINEAR_128 = cv2.resize(img, dim128, interpolation=cv2.INTER_LINEAR)\n",
        "scaled_LINEAR_64 = cv2.resize(img, dim64, interpolation=cv2.INTER_LINEAR)\n",
        "scaled_LINEAR_32 = cv2.resize(img, dim32, interpolation=cv2.INTER_LINEAR)\n",
        "\n",
        "scaled_NEAREST_128 = cv2.resize(img, dim128, interpolation=cv2.INTER_NEAREST)\n",
        "scaled_NEAREST_64 = cv2.resize(img, dim64, interpolation=cv2.INTER_NEAREST)\n",
        "scaled_NEAREST_32 = cv2.resize(img, dim32, interpolation=cv2.INTER_NEAREST)\n",
        "\n",
        "plt.subplot(2,3,1),plt.imshow(scaled_LINEAR_128, cmap='gray'), plt.title('a')\n",
        "plt.xticks([]), plt.yticks([])\n",
        "plt.subplot(2,3,2),plt.imshow(scaled_LINEAR_64, cmap='gray'), plt.title('b')\n",
        "plt.xticks([]), plt.yticks([])\n",
        "plt.subplot(2,3,3),plt.imshow(scaled_LINEAR_32, cmap='gray'), plt.title('c')\n",
        "plt.xticks([]), plt.yticks([])\n",
        "plt.subplot(2,3,4),plt.imshow(scaled_NEAREST_128, cmap='gray'), plt.title('d')\n",
        "plt.xticks([]), plt.yticks([])\n",
        "plt.subplot(2,3,5),plt.imshow(scaled_NEAREST_64, cmap='gray'), plt.title('e')\n",
        "plt.xticks([]), plt.yticks([])\n",
        "plt.subplot(2,3,6),plt.imshow(scaled_NEAREST_32, cmap='gray'), plt.title('f')\n",
        "plt.xticks([]), plt.yticks([])\n",
        "plt.show()"
      ],
      "metadata": {
        "id": "o89NXDo59eKK"
      },
      "execution_count": null,
      "outputs": []
    },
    {
      "cell_type": "markdown",
      "source": [
        "PRACTICA # 5 \"Transformaciones Logarítmicas\""
      ],
      "metadata": {
        "id": "gixujzSc-Fjr"
      }
    },
    {
      "cell_type": "code",
      "source": [
        "def imadjust(x,a,b,c,d,gamma=0):  \n",
        "   if gamma == 0:\n",
        "    y = 255 - x\n",
        "   else:\n",
        "    y = (((x - a) / (b - a)) ** gamma) * (d - c) + c    \n",
        "   return y\n",
        "\n",
        "import cv2\n",
        "import numpy as np\n",
        "from matplotlib import pyplot as plt\n",
        "from matplotlib.pyplot import figure\n",
        "\n",
        "\n",
        "img = cv2.imread('Fig0304.tif', 0)\n",
        "imgLogNegativo=imadjust(img,0,1,0,0)\n",
        "\n",
        "plt.subplot(1,2,1),plt.imshow(img, cmap='gray'), plt.title('Imagen original')\n",
        "plt.xticks([]), plt.yticks([])\n",
        "plt.subplot(1,2,2),plt.imshow(imgLogNegativo, cmap='gray'), plt.title('Negativo')\n",
        "plt.xticks([]), plt.yticks([])\n",
        "plt.show()"
      ],
      "metadata": {
        "id": "f5OBpq7kNZ56"
      },
      "execution_count": null,
      "outputs": []
    },
    {
      "cell_type": "code",
      "source": [
        "img2 = cv2.imread('Fig0308.tif', 0)\n",
        "imgLog3=imadjust(img2,0,1,0,1, 0.3)\n",
        "imgLog4=imadjust(img2,0,1,0,1, 0.4)\n",
        "imgLog6=imadjust(img2,0,1,0,1, 0.6)\n",
        "\n",
        "figure(figsize=(8, 6), dpi=100)\n",
        "plt.subplot(2,2,1),plt.imshow(img2, cmap='gray'), plt.title('Imagen original')\n",
        "plt.xticks([]), plt.yticks([])\n",
        "\n",
        "plt.subplot(2,2,2),plt.imshow(imgLog6, cmap='gray'), plt.title('gamma = 0.6')\n",
        "plt.xticks([]), plt.yticks([])\n",
        "\n",
        "plt.subplot(2,2,3),plt.imshow(imgLog4, cmap='gray'), plt.title('gamma = 0.4')\n",
        "plt.xticks([]), plt.yticks([])\n",
        "\n",
        "plt.subplot(2,2,4),plt.imshow(imgLog3, cmap='gray'), plt.title('gamma = 0.3')\n",
        "plt.xticks([]), plt.yticks([])\n",
        "\n",
        "plt.show()"
      ],
      "metadata": {
        "id": "pT_ydGGgcrI6"
      },
      "execution_count": null,
      "outputs": []
    },
    {
      "cell_type": "markdown",
      "source": [
        "PRACTICA # 6 \"Ecualización de Histograma\""
      ],
      "metadata": {
        "id": "106k1i9dCJ42"
      }
    },
    {
      "cell_type": "code",
      "source": [
        "import cv2\n",
        "import numpy as np\n",
        "from matplotlib import pyplot as plt\n",
        "from matplotlib.pyplot import figure\n",
        "\n",
        "\n",
        "img_1 = cv2.imread('Fig0320_1.tif', cv2.IMREAD_GRAYSCALE)\n",
        "img_1_hist = cv2.calcHist([img_1], [0], None, [256], [0, 256])\n",
        "img_1_Eq = cv2.equalizeHist(img_1)\n",
        "img_1_Eq_hist =  cv2.calcHist([img_1_Eq],[0],None,[256],[0,256])\n",
        "\n",
        "img_2 = cv2.imread('Fig0320_2.tif', 0)\n",
        "img_2_hist = cv2.calcHist([img_2], [0], None, [256], [0, 256])\n",
        "img_2_Eq = cv2.equalizeHist(img_2)\n",
        "img_2_Eq_hist =  cv2.calcHist([img_2_Eq],[0],None,[256],[0,256])\n",
        "\n",
        "img_3 = cv2.imread('Fig0320_3.tif', 0)\n",
        "img_3_hist = cv2.calcHist([img_3], [0], None, [256], [0, 256])\n",
        "img_3_Eq = cv2.equalizeHist(img_3)\n",
        "img_3_Eq_hist =  cv2.calcHist([img_3_Eq],[0],None,[256],[0,256])\n",
        "\n",
        "img_4 = cv2.imread('Fig0320_4.tif', 0)\n",
        "img_4_hist = cv2.calcHist([img_4], [0], None, [256], [0, 256])\n",
        "img_4_Eq = cv2.equalizeHist(img_4)\n",
        "img_4_Eq_hist =  cv2.calcHist([img_4_Eq],[0],None,[256],[0,256])\n",
        "\n",
        "figure(figsize=(8, 6), dpi=100)\n",
        "\n",
        "plt.subplot(4,4,1),plt.imshow(img_1, cmap='gray'), plt.title('Imagen')\n",
        "plt.xticks([]), plt.yticks([])\n",
        "plt.subplot(4,4,2),plt.plot(img_1_hist), plt.title('Histograma')\n",
        "plt.xticks([]), plt.yticks([])\n",
        "plt.subplot(4,4,3),plt.imshow(img_1_Eq, cmap='gray'), plt.title('Imagen ecualizada')\n",
        "plt.xticks([]), plt.yticks([])\n",
        "plt.subplot(4,4,4),plt.plot(img_1_Eq_hist), plt.title('Histograma')\n",
        "plt.xticks([]), plt.yticks([])\n",
        "\n",
        "plt.subplot(4,4,5),plt.imshow(img_2, cmap='gray'), plt.title('Imagen')\n",
        "plt.xticks([]), plt.yticks([])\n",
        "plt.subplot(4,4,6),plt.plot(img_2_hist), plt.title('Histograma')\n",
        "plt.xticks([]), plt.yticks([])\n",
        "plt.subplot(4,4,7),plt.imshow(img_2_Eq, cmap='gray'), plt.title('Imagen ecualizada')\n",
        "plt.xticks([]), plt.yticks([])\n",
        "plt.subplot(4,4,8),plt.plot(img_2_Eq_hist), plt.title('Histograma')\n",
        "plt.xticks([]), plt.yticks([])\n",
        "\n",
        "plt.subplot(4,4,9),plt.imshow(img_3, cmap='gray'), plt.title('Imagen')\n",
        "plt.xticks([]), plt.yticks([])\n",
        "plt.subplot(4,4,10),plt.plot(img_3_hist), plt.title('Histograma')\n",
        "plt.xticks([]), plt.yticks([])\n",
        "plt.subplot(4,4,11),plt.imshow(img_3_Eq, cmap='gray'), plt.title('Imagen ecualizada')\n",
        "plt.xticks([]), plt.yticks([])\n",
        "plt.subplot(4,4,12),plt.plot(img_3_Eq_hist), plt.title('Histograma')\n",
        "plt.xticks([]), plt.yticks([])\n",
        "\n",
        "plt.subplot(4,4,13),plt.imshow(img_4, cmap='gray'), plt.title('Imagen')\n",
        "plt.xticks([]), plt.yticks([])\n",
        "plt.subplot(4,4,14),plt.plot(img_4_hist), plt.title('Histograma')\n",
        "plt.xticks([]), plt.yticks([])\n",
        "plt.subplot(4,4,15),plt.imshow(img_4_Eq, cmap='gray'), plt.title('Imagen ecualizada')\n",
        "plt.xticks([]), plt.yticks([])\n",
        "plt.subplot(4,4,16),plt.plot(img_4_Eq_hist), plt.title('Histograma')\n",
        "plt.xticks([]), plt.yticks([])\n",
        "\n",
        "plt.show()"
      ],
      "metadata": {
        "id": "Qwu3Dll5CXgS"
      },
      "execution_count": null,
      "outputs": []
    },
    {
      "cell_type": "markdown",
      "source": [
        "PRACTICA # 7 \"Filtro Convolucional Pasa Altas\""
      ],
      "metadata": {
        "id": "0Fn9eX4lehAc"
      }
    },
    {
      "cell_type": "markdown",
      "source": [
        "FILTROS"
      ],
      "metadata": {
        "id": "ZogI988ljHDv"
      }
    },
    {
      "cell_type": "code",
      "source": [
        "import numpy as np\n",
        "import cv2 as cv\n",
        "from matplotlib import pyplot as plt\n",
        "from matplotlib.pyplot import figure\n",
        "\n",
        "img = cv.imread('Fig0333.tif', cv.IMREAD_GRAYSCALE)\n",
        "\n",
        "kernel = np.array((\n",
        "\t[4, 0, 0],\n",
        "\t[0, 0, 0],\n",
        "\t[0, 0, -4]), dtype=\"int\")\n",
        "\n",
        "outputFiltro = cv.filter2D(img, -1, kernel)\n",
        "\n",
        "figure(figsize=(8, 6), dpi=100)\n",
        "plt.subplot(1,2,1),plt.imshow(img, cmap='gray'), plt.title('Imagen original')\n",
        "plt.xticks([]), plt.yticks([])\n",
        "plt.subplot(1,2,2),plt.imshow(outputFiltro, cmap='gray'), plt.title('Imagen c/Filtro')\n",
        "plt.xticks([]), plt.yticks([])\n",
        "plt.show()"
      ],
      "metadata": {
        "id": "mAbdIUQvjIvB"
      },
      "execution_count": null,
      "outputs": []
    },
    {
      "cell_type": "code",
      "source": [
        "import numpy as np\n",
        "import cv2 as cv\n",
        "from matplotlib import pyplot as plt\n",
        "from matplotlib.pyplot import figure\n",
        "from skimage.util import random_noise\n",
        "\n",
        "img = cv.imread('Fig3.30(a).jpg', cv.IMREAD_GRAYSCALE)\n",
        "\n",
        "#Kernel de promedios\n",
        "kernel_3x3 = np.ones((3,3), np.float32) / 9.0  \n",
        "\n",
        "\n",
        "img_ruido = random_noise(img,mode='gaussian', seed=None, clip=True, mean= 0, var = 0.05)\n",
        "img_ruido = cv.normalize(img_ruido, None, 0, 255, cv.NORM_MINMAX, cv.CV_8U)\n",
        "\n",
        "#output3x3 = cv.filter2D(img_ruido, -1, kernel_3x3)\n",
        "output3x3 = cv.filter2D(img, -1, kernel_3x3)\n",
        "#blurred = cv.GaussianBlur(img_ruido, (3, 3), cv.BORDER_DEFAULT)\n",
        "blurred = cv.GaussianBlur(img, (3, 3), cv.BORDER_DEFAULT)\n",
        "#output3x3= cv.MedianBlur(img,5)\n",
        "\n",
        "figure(figsize=(8, 6), dpi=100)\n",
        "plt.subplot(2,2,1),plt.imshow(img, cmap='gray'), plt.title('Imagen original')\n",
        "plt.xticks([]), plt.yticks([])\n",
        "plt.subplot(2,2,2),plt.imshow(img_ruido, cmap='gray'), plt.title('Imagen con ruido gaussiano')\n",
        "plt.xticks([]), plt.yticks([])\n",
        "plt.subplot(2,2,3),plt.imshow(output3x3, cmap='gray'), plt.title('Imagen salida filtro de promedios')\n",
        "plt.xticks([]), plt.yticks([])\n",
        "plt.subplot(2,2,4),plt.imshow(blurred, cmap='gray'), plt.title('Imagen salida filtro Gaussiano')\n",
        "plt.xticks([]), plt.yticks([])\n",
        "plt.show()"
      ],
      "metadata": {
        "id": "IVBKilsCERMq"
      },
      "execution_count": null,
      "outputs": []
    },
    {
      "cell_type": "markdown",
      "source": [
        "PRACTICA # 8 \"Filtro Convolucional Pasa Altas\""
      ],
      "metadata": {
        "id": "QTccNkjdGPi1"
      }
    },
    {
      "cell_type": "code",
      "source": [
        "import numpy as np\n",
        "import cv2 as cv\n",
        "from matplotlib import pyplot as plt\n",
        "from matplotlib.pyplot import figure\n",
        "\n",
        "img = cv.imread('Fig0333.tif', cv.IMREAD_GRAYSCALE)\n",
        "\n",
        "Gaussian = cv.GaussianBlur(img, (19, 19), 3)\n",
        "LoG = cv.Laplacian(Gaussian, cv.CV_8U, ksize=3)\n",
        "\n",
        "plt.subplot(1,2,1),plt.imshow(img, cmap='gray'), plt.title('Imagen original')\n",
        "plt.subplot(1,2,2),plt.imshow(LoG, cmap='gray'), plt.title('Filtro Laplaciano')\n",
        "plt.show()"
      ],
      "metadata": {
        "id": "0X6eVX11GS1s"
      },
      "execution_count": null,
      "outputs": []
    },
    {
      "cell_type": "markdown",
      "source": [
        "PRACTICA # 9 \"Filtro Sobel\""
      ],
      "metadata": {
        "id": "SFMGtGHkKNk1"
      }
    },
    {
      "cell_type": "code",
      "source": [
        "import numpy as np\n",
        "import cv2 as cv\n",
        "from matplotlib import pyplot as plt\n",
        "from matplotlib.pyplot import figure\n",
        "\n",
        "img = cv.imread('Fig0342.tif', cv.IMREAD_GRAYSCALE)\n",
        "\n",
        "img_sobel_x = cv.Sobel(img, cv.CV_8U, 1, 0, ksize=3)\n",
        "img_sobel_y = cv.Sobel(img, cv.CV_8U, 0, 1, ksize=3)\n",
        "\n",
        "figure(figsize=(8, 6), dpi=100)\n",
        "plt.subplot(2,2,1),plt.imshow(img, cmap = 'gray')\n",
        "plt.title('Original'), plt.xticks([]), plt.yticks([])\n",
        "plt.subplot(2,2,2),plt.imshow(img_sobel_x + img_sobel_y, cmap = 'gray')\n",
        "plt.title('Sobel'), plt.xticks([]), plt.yticks([])\n",
        "plt.subplot(2,2,3),plt.imshow(img_sobel_x, cmap = 'gray')\n",
        "plt.title('Sobel X'), plt.xticks([]), plt.yticks([])\n",
        "plt.subplot(2,2,4),plt.imshow(img_sobel_y, cmap = 'gray')\n",
        "plt.title('Sobel Y'), plt.xticks([]), plt.yticks([])\n",
        "plt.show()\n"
      ],
      "metadata": {
        "id": "K1LbhnlTHDB5"
      },
      "execution_count": null,
      "outputs": []
    },
    {
      "cell_type": "code",
      "source": [
        "import numpy as np\n",
        "import cv2 as cv\n",
        "from matplotlib import pyplot as plt\n",
        "from matplotlib.pyplot import figure\n",
        "\n",
        "img = cv.imread('coins.tif', cv.IMREAD_GRAYSCALE)\n",
        "\n",
        "img_sobel_x = cv.Sobel(img, cv.CV_64F, 1, 0, ksize=3)\n",
        "img_sobel_y = cv.Sobel(img, cv.CV_64F, 0, 1, ksize=3)\n",
        "\n",
        "# La magnitud del gradiente es la raíz cuadrada de los gradientes al cuadrado en las direcciones x e y sumados.\n",
        "magnitude = np.sqrt((img_sobel_x ** 2) + (img_sobel_y ** 2))\n",
        "\n",
        "# La orientación del gradiente es la arcotangente de los gradientes en las direcciones x e y.\n",
        "orientation = np.arctan2(img_sobel_y, img_sobel_x) * (180 / np.pi)\n",
        "\n",
        "figure(figsize=(8, 6), dpi=100)\n",
        "plt.subplot(2,2,1),plt.imshow(magnitude, cmap = 'gray')\n",
        "plt.title('Magnitud del gradiente'), plt.xticks([]), plt.yticks([])\n",
        "plt.subplot(2,2,2),plt.imshow(orientation, cmap = 'gray')\n",
        "plt.title('Dirección del gradiente'), plt.xticks([]), plt.yticks([])\n",
        "plt.subplot(2,2,3),plt.imshow(img_sobel_x, cmap = 'gray')\n",
        "plt.title('Sobel X'), plt.xticks([]), plt.yticks([])\n",
        "plt.subplot(2,2,4),plt.imshow(img_sobel_y, cmap = 'gray')\n",
        "plt.title('Sobel Y'), plt.xticks([]), plt.yticks([])\n",
        "plt.show()"
      ],
      "metadata": {
        "id": "UNaxqJ2_KYlz"
      },
      "execution_count": null,
      "outputs": []
    }
  ]
}